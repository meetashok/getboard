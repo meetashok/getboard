{
 "cells": [
  {
   "cell_type": "code",
   "execution_count": 38,
   "metadata": {},
   "outputs": [],
   "source": [
    "import requests\n",
    "import re\n",
    "from bs4 import BeautifulSoup"
   ]
  },
  {
   "cell_type": "code",
   "execution_count": 2,
   "metadata": {},
   "outputs": [],
   "source": [
    "base_url = \"https://boardgamegeek.com/browse/boardgame/page/\""
   ]
  },
  {
   "cell_type": "code",
   "execution_count": 3,
   "metadata": {},
   "outputs": [],
   "source": [
    "pagenumber = 1"
   ]
  },
  {
   "cell_type": "code",
   "execution_count": 4,
   "metadata": {},
   "outputs": [
    {
     "name": "stdout",
     "output_type": "stream",
     "text": [
      "https://boardgamegeek.com/browse/boardgame/page/1\n"
     ]
    }
   ],
   "source": [
    "url = f\"{base_url}{pagenumber}\"\n",
    "print(url)"
   ]
  },
  {
   "cell_type": "code",
   "execution_count": 5,
   "metadata": {},
   "outputs": [],
   "source": [
    "response = requests.get(url)"
   ]
  },
  {
   "cell_type": "code",
   "execution_count": 11,
   "metadata": {},
   "outputs": [],
   "source": [
    "soup = BeautifulSoup(response.text, 'html.parser')"
   ]
  },
  {
   "cell_type": "code",
   "execution_count": 93,
   "metadata": {},
   "outputs": [],
   "source": [
    "def boardgameinfo(info):\n",
    "    links = info.find_all(\"a\")\n",
    "    \n",
    "    rank = links[0].get(\"name\")\n",
    "    gameid = links[1].get(\"href\").split(\"/\")[2]\n",
    "    gamename = links[2].text\n",
    "    \n",
    "    releaseyear = info.select(\"span\")[0].text\n",
    "    \n",
    "    if (releaseyear[0] == \"(\") & (releaseyear[-1] == \")\"):\n",
    "        releaseyear = releaseyear[1:-1]\n",
    "    \n",
    "    ratingdata = info.find_all(\"td\", {\"class\": \"collection_bggrating\"})\n",
    "    \n",
    "    geekrating = ratingdata[0].text.strip()\n",
    "    userrating = ratingdata[1].text.strip()\n",
    "    numvotes = ratingdata[2].text.strip()\n",
    "    \n",
    "    return (rank, gameid, releaseyear, geekrating, userrating, numvotes, gamename)\n",
    "    "
   ]
  },
  {
   "cell_type": "code",
   "execution_count": 94,
   "metadata": {},
   "outputs": [
    {
     "name": "stdout",
     "output_type": "stream",
     "text": [
      "('1', '174430', '2017', '8.582', '8.84', '32962', 'Gloomhaven')\n",
      "('2', '161936', '2015', '8.468', '8.62', '35603', 'Pandemic Legacy: Season 1')\n",
      "('3', '167791', '2016', '8.273', '8.42', '50796', 'Terraforming Mars')\n",
      "('4', '224517', '2018', '8.237', '8.63', '11241', 'Brass: Birmingham')\n",
      "('5', '182028', '2015', '8.227', '8.48', '18869', 'Through the Ages: A New Story of Civilization')\n",
      "('6', '233078', '2017', '8.188', '8.69', '10010', 'Twilight Imperium (Fourth Edition)')\n",
      "('7', '12333', '2005', '8.157', '8.31', '37195', 'Twilight Struggle')\n",
      "('8', '187645', '2016', '8.156', '8.42', '19567', 'Star Wars: Rebellion')\n",
      "('9', '220308', '2017', '8.141', '8.50', '12650', 'Gaia Project')\n",
      "('10', '193738', '2016', '8.097', '8.28', '23969', 'Great Western Trail')\n",
      "('11', '169786', '2016', '8.097', '8.26', '48308', 'Scythe')\n",
      "('12', '115746', '2012', '8.070', '8.46', '11527', 'War of the Ring (Second Edition)')\n",
      "('13', '162886', '2017', '8.034', '8.32', '17359', 'Spirit Island')\n",
      "('14', '120677', '2012', '8.017', '8.17', '35529', 'Terra Mystica')\n",
      "('15', '84876', '2011', '8.011', '8.13', '41087', 'The Castles of Burgundy')\n",
      "('16', '173346', '2015', '7.979', '8.11', '48689', '7 Wonders Duel')\n",
      "('17', '124361', '2013', '7.950', '8.11', '23651', 'Concordia')\n",
      "('18', '180263', '2017', '7.947', '8.33', '13415', 'The 7th Continent')\n",
      "('19', '28720', '2007', '7.940', '8.15', '17040', 'Brass: Lancashire')\n",
      "('20', '205637', '2016', '7.922', '8.19', '22169', 'Arkham Horror: The Card Game')\n",
      "('21', '183394', '2015', '7.915', '8.11', '22625', 'Viticulture Essential Edition')\n",
      "('22', '266192', '2019', '7.905', '8.11', '24648', 'Wingspan')\n",
      "('23', '3076', '2002', '7.897', '8.02', '59435', 'Puerto Rico')\n",
      "('24', '177736', '2016', '7.895', '8.18', '14023', 'A Feast for Odin')\n",
      "('25', '96848', '2011', '7.888', '8.10', '25537', 'Mage Knight Board Game')\n",
      "('26', '164928', '2014', '7.882', '8.08', '18657', 'Orléans')\n",
      "('27', '102794', '2013', '7.874', '8.04', '25813', 'Caverna: The Cave Farmers')\n",
      "('28', '175914', '2015', '7.870', '8.17', '11791', 'Food Chain Magnate')\n",
      "('29', '31260', '2007', '7.861', '7.97', '60052', 'Agricola')\n",
      "('30', '205059', '2016', '7.849', '8.10', '20558', 'Mansions of Madness: Second Edition')\n",
      "('31', '170216', '2015', '7.825', '8.01', '29570', 'Blood Rage')\n",
      "('32', '55690', '2015', '7.810', '8.73', '6769', 'Kingdom Death: Monster')\n",
      "('33', '221107', '2017', '7.805', '8.19', '9409', 'Pandemic Legacy: Season 2')\n",
      "('34', '237182', '2018', '7.784', '8.06', '15416', 'Root')\n",
      "('35', '2651', '2004', '7.782', '7.88', '52924', 'Power Grid')\n",
      "('36', '167355', '2018', '7.779', '8.48', '7142', 'Nemesis')\n",
      "('37', '209010', '2016', '7.774', '8.08', '12530', 'Mechs vs. Minions')\n",
      "('38', '164153', '2014', '7.768', '8.04', '18532', 'Star Wars: Imperial Assault')\n",
      "('39', '25613', '2006', '7.766', '7.97', '17393', 'Through the Ages: A Story of Civilization')\n",
      "('40', '126163', '2012', '7.765', '7.91', '27129', \"Tzolk'in: The Mayan Calendar\")\n",
      "('41', '72125', '2011', '7.741', '7.92', '25069', 'Eclipse')\n",
      "('42', '35677', '2008', '7.734', '7.88', '24600', 'Le Havre')\n",
      "('43', '230802', '2017', '7.733', '7.86', '40421', 'Azul')\n",
      "('44', '216132', '2017', '7.724', '8.03', '11643', 'Clans of Caledonia')\n",
      "('45', '171623', '2015', '7.713', '7.92', '17571', 'The Voyages of Marco Polo')\n",
      "('46', '121921', '2012', '7.708', '7.87', '29980', 'Robinson Crusoe: Adventures on the Cursed Island')\n",
      "('47', '124742', '2012', '7.688', '7.88', '25472', 'Android: Netrunner')\n",
      "('48', '185343', '2017', '7.676', '8.08', '9142', 'Anachrony')\n",
      "('49', '68448', '2010', '7.670', '7.77', '75999', '7 Wonders')\n",
      "('50', '28143', '2007', '7.661', '7.76', '43094', 'Race for the Galaxy')\n",
      "('51', '122515', '2012', '7.649', '7.83', '17273', 'Keyflower')\n",
      "('52', '62219', '2010', '7.644', '7.85', '16843', 'Dominant Species')\n",
      "('53', '159675', '2014', '7.640', '8.10', '6798', 'Fields of Arle')\n",
      "('54', '18602', '2005', '7.637', '7.80', '25612', 'Caylus')\n",
      "('55', '110327', '2012', '7.633', '7.76', '41986', 'Lords of Waterdeep')\n",
      "('56', '125153', '2015', '7.629', '8.02', '8219', 'The Gallerist')\n",
      "('57', '157354', '2014', '7.628', '7.77', '28716', 'Five Tribes')\n",
      "('58', '199792', '2018', '7.627', '8.01', '9838', 'Everdell')\n",
      "('59', '201808', '2016', '7.621', '7.81', '22241', 'Clank!: A Deck-Building Adventure')\n",
      "('60', '12493', '2005', '7.611', '7.85', '17759', 'Twilight Imperium (Third Edition)')\n",
      "('61', '93', '1995', '7.607', '7.76', '22331', 'El Grande')\n",
      "('62', '205896', '2018', '7.604', '7.93', '13366', 'Rising Sun')\n",
      "('63', '146021', '2013', '7.601', '7.83', '26333', 'Eldritch Horror')\n",
      "('64', '172386', '2015', '7.593', '7.91', '9850', 'Mombasa')\n",
      "('65', '40834', '2009', '7.590', '7.73', '28553', 'Dominion: Intrigue')\n",
      "('66', '229853', '2018', '7.582', '7.96', '8859', 'Teotihuacan: City of Gods')\n",
      "('67', '37111', '2008', '7.581', '7.74', '31349', 'Battlestar Galactica: The Board Game')\n",
      "('68', '161533', '2017', '7.581', '8.17', '5376', 'Lisboa')\n",
      "('69', '521', '1876', '7.578', '7.84', '10635', 'Crokinole')\n",
      "('70', '73439', '2010', '7.572', '7.76', '16625', 'Troyes')\n",
      "('71', '163412', '2014', '7.572', '7.68', '39114', 'Patchwork')\n",
      "('72', '192135', '2017', '7.571', '8.46', '4138', 'Too Many Bones')\n",
      "('73', '178900', '2015', '7.570', '7.66', '58803', 'Codenames')\n",
      "('74', '247763', '2018', '7.566', '8.10', '5835', 'Underwater Cities')\n",
      "('75', '191189', '2016', '7.563', '8.03', '7531', \"Aeon's End\")\n",
      "('76', '144733', '2013', '7.554', '7.78', '13289', 'Russian Railroads')\n",
      "('77', '200680', '2016', '7.553', '8.06', '6770', 'Agricola (Revised Edition)')\n",
      "('78', '236457', '2018', '7.551', '7.85', '11278', 'Architects of the West Kingdom')\n",
      "('79', '132531', '2014', '7.551', '7.70', '23569', 'Roll for the Galaxy')\n",
      "('80', '2511', '1981', '7.550', '7.77', '15086', 'Sherlock Holmes Consulting Detective: The Thames Murders & Other Cases')\n",
      "('81', '42', '1997', '7.545', '7.70', '24142', 'Tigris & Euphrates')\n",
      "('82', '102680', '2011', '7.540', '7.77', '13638', 'Trajan')\n",
      "('83', '36218', '2008', '7.528', '7.63', '72643', 'Dominion')\n",
      "('84', '170042', '2015', '7.525', '7.80', '12142', 'Raiders of the North Sea')\n",
      "('85', '30549', '2008', '7.523', '7.62', '91316', 'Pandemic')\n",
      "('86', '198928', '2016', '7.506', '7.94', '7194', 'Pandemic: Iberia')\n",
      "('87', '127023', '2012', '7.505', '7.73', '14785', 'Kemet')\n",
      "('88', '103885', '2012', '7.501', '7.72', '21935', 'Star Wars: X-Wing Miniatures Game')\n",
      "('89', '244521', '2018', '7.497', '7.76', '12563', 'The Quacks of Quedlinburg')\n",
      "('90', '172287', '2015', '7.484', '7.78', '10976', 'Champions of Midgard')\n",
      "('91', '196340', '2016', '7.483', '7.88', '7294', 'Yokohama')\n",
      "('92', '182874', '2015', '7.482', '7.79', '10131', 'Grand Austria Hotel')\n",
      "('93', '175155', '2015', '7.477', '7.96', '6756', 'Forbidden Stars')\n",
      "('94', '34635', '2008', '7.476', '7.58', '41122', 'Stone Age')\n",
      "('95', '150376', '2014', '7.475', '7.62', '36135', 'Dead of Winter: A Crossroads Game')\n",
      "('96', '203993', '2016', '7.471', '7.88', '7253', 'Lorenzo il Magnifico')\n",
      "('97', '161970', '2014', '7.471', '7.69', '16436', 'Alchemists')\n",
      "('98', '104162', '2012', '7.470', '7.71', '21053', 'Descent: Journeys in the Dark (Second Edition)')\n",
      "('99', '146508', '2015', '7.467', '7.65', '21515', 'T.I.M.E Stories')\n",
      "('100', '147020', '2014', '7.460', '7.60', '32103', 'Star Realms')\n"
     ]
    }
   ],
   "source": [
    "for div in divs:\n",
    "    print(boardgameinfo(div))"
   ]
  },
  {
   "cell_type": "code",
   "execution_count": null,
   "metadata": {},
   "outputs": [],
   "source": []
  }
 ],
 "metadata": {
  "kernelspec": {
   "display_name": "Python [conda env:dvaproject] *",
   "language": "python",
   "name": "conda-env-dvaproject-py"
  },
  "language_info": {
   "codemirror_mode": {
    "name": "ipython",
    "version": 3
   },
   "file_extension": ".py",
   "mimetype": "text/x-python",
   "name": "python",
   "nbconvert_exporter": "python",
   "pygments_lexer": "ipython3",
   "version": "3.7.6"
  }
 },
 "nbformat": 4,
 "nbformat_minor": 4
}

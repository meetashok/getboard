{
 "cells": [
  {
   "cell_type": "code",
   "execution_count": 36,
   "metadata": {},
   "outputs": [],
   "source": [
    "import pandas as pd\n",
    "import numpy as np"
   ]
  },
  {
   "cell_type": "code",
   "execution_count": 7,
   "metadata": {},
   "outputs": [],
   "source": [
    "names = [\"zipcode\", \"distance\", \"urlusername\", \"username\", \"userid\"]\n",
    "data = pd.read_csv(\"../data/usernames.csv\", usecols=[0,1,2,3,4], names=names)"
   ]
  },
  {
   "cell_type": "code",
   "execution_count": 19,
   "metadata": {},
   "outputs": [
    {
     "name": "stdout",
     "output_type": "stream",
     "text": [
      "Total records:      2,526,725\n",
      "Unique urlusername: 36,917\n",
      "Unique username:    36,928\n",
      "Unique userid:      36,928\n"
     ]
    }
   ],
   "source": [
    "print(f\"Total records:      {len(data.index):,.0f}\")\n",
    "print(f\"Unique urlusername: {len(data.urlusername.unique()):,.0f}\")\n",
    "print(f\"Unique username:    {len(data.username.unique()):,.0f}\")\n",
    "print(f\"Unique userid:      {len(data.userid.unique()):,.0f}\")"
   ]
  },
  {
   "cell_type": "code",
   "execution_count": 29,
   "metadata": {},
   "outputs": [],
   "source": [
    "data[\"consistent\"] = data.apply(lambda row: row[\"urlusername\"].lower() == row[\"username\"].lower(), axis=1)"
   ]
  },
  {
   "cell_type": "code",
   "execution_count": 40,
   "metadata": {},
   "outputs": [],
   "source": [
    "np.random.seed(1)\n",
    "\n",
    "data[[\"username\"]]\\\n",
    "    .drop_duplicates()\\\n",
    "    .sample(frac=1)\\\n",
    "    .to_csv(\"../data/cleaned_usernames.csv\", index=False, header=False)"
   ]
  },
  {
   "cell_type": "code",
   "execution_count": null,
   "metadata": {},
   "outputs": [],
   "source": []
  }
 ],
 "metadata": {
  "kernelspec": {
   "display_name": "Python 3",
   "language": "python",
   "name": "python3"
  },
  "language_info": {
   "codemirror_mode": {
    "name": "ipython",
    "version": 3
   },
   "file_extension": ".py",
   "mimetype": "text/x-python",
   "name": "python",
   "nbconvert_exporter": "python",
   "pygments_lexer": "ipython3",
   "version": "3.7.6"
  }
 },
 "nbformat": 4,
 "nbformat_minor": 4
}

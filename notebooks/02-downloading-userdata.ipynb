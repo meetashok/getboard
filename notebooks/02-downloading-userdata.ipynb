{
 "cells": [
  {
   "cell_type": "code",
   "execution_count": null,
   "metadata": {},
   "outputs": [],
   "source": []
  },
  {
   "cell_type": "code",
   "execution_count": 97,
   "metadata": {},
   "outputs": [
    {
     "name": "stdout",
     "output_type": "stream",
     "text": [
      "1\n"
     ]
    }
   ],
   "source": []
  },
  {
   "cell_type": "code",
   "execution_count": null,
   "metadata": {},
   "outputs": [],
   "source": []
  },
  {
   "cell_type": "code",
   "execution_count": 199,
   "metadata": {},
   "outputs": [],
   "source": [
    "import requests\n",
    "from bs4 import BeautifulSoup\n",
    "import pandas as pd\n",
    "import time\n",
    "import datetime\n",
    "import random\n",
    "import xml.etree.ElementTree as ET \n",
    "import csv\n",
    "\n",
    "MIN_TIME = 1\n",
    "MAX_TIME = 3\n",
    "\n",
    "\n",
    "def sleep(MIN_TIME, MAX_TIME):\n",
    "    time.sleep(random.randint(MIN_TIME*10, MAX_TIME*10)/10)\n",
    "\n",
    "def build_url(username):\n",
    "    base_url = \"https://www.boardgamegeek.com\"\n",
    "    collections_url = \"/xmlapi2/collection?username=\"\n",
    "    url = f\"{base_url}{collections_url}{username}&excludesubtype=boardgameexpansion&stats=1\"\n",
    "\n",
    "    return url\n",
    "\n",
    "def userslist():\n",
    "    usernames_file = \"../data/cleaned_usernames.csv\"\n",
    "    usernames = pd.read_csv(usernames_file, names=[\"username\"])\\\n",
    "            .username\\\n",
    "            .values\n",
    "\n",
    "    try:\n",
    "        completed_usernames = pd.read_csv(\"../data/usercomments.csv\", names=[\"username\"])\\\n",
    "            .username\\\n",
    "            .unique()\n",
    "    except pd.errors.EmptyDataError:\n",
    "        completed_usernames = []\n",
    "    \n",
    "    try:\n",
    "        skipped_usernames = pd.read_csv(\"../data/usersskipped.csv\", names=[\"username\"])\\\n",
    "            .username\\\n",
    "            .unique()\n",
    "    except pd.errors.EmptyDataError:\n",
    "        skipped_usernames = []\n",
    "        \n",
    "    return list(set(usernames).union(set(skipped_usernames)).difference(set(completed_usernames)))\n",
    "        \n",
    "\n",
    "def information(item):\n",
    "    gameid = item.get(\"objectid\")\n",
    "    userrating = item.find(\"stats\").find(\"rating\").get(\"value\")\n",
    "    \n",
    "    status = item.find(\"status\")\n",
    "    \n",
    "    own = status.get(\"own\")\n",
    "    prevowned = status.get(\"prevowned\")\n",
    "    fortrade = status.get(\"fortrade\")\n",
    "    want = status.get(\"want\")\n",
    "    wanttoplay = status.get(\"wanttoplay\")\n",
    "    wanttobuy = status.get(\"wanttobuy\")\n",
    "    wishlist = status.get(\"wishlist\")\n",
    "    wishlistpriority = status.get(\"wishlistpriority\")\n",
    "    preordered = status.get(\"preordered\")\n",
    "    lastmodified = status.get(\"lastmodified\")\n",
    "\n",
    "    numplays = item.find(\"numplays\").text\n",
    "    \n",
    "    comment_tag = item.find(\"comment\")\n",
    "\n",
    "    if not comment_tag is None:\n",
    "        commentdata = (username, gameid, userrating, comment_tag.text.encode(\"utf-8\", \"ignore\"))\n",
    "    else:\n",
    "        commentdata = None\n",
    "    \n",
    "    userdata = (username, gameid, userrating, own, prevowned, \n",
    "            fortrade, want, wanttoplay, wanttobuy, \n",
    "            wishlist, wishlistpriority, preordered, \n",
    "            numplays, lastmodified)\n",
    "\n",
    "    return userdata, commentdata"
   ]
  },
  {
   "cell_type": "code",
   "execution_count": 198,
   "metadata": {},
   "outputs": [
    {
     "name": "stdout",
     "output_type": "stream",
     "text": [
      "griffon8 200\n",
      "WickedFunGames 200\n",
      "fourwaychessman 200\n"
     ]
    }
   ],
   "source": [
    "if __name__ == \"__main__\":\n",
    "    usernames = userslist()\n",
    "    \n",
    "    for i, username in enumerate(usernames[:3]):\n",
    "        url = build_url(username)\n",
    "        response = requests.get(url)\n",
    "        tries = 0\n",
    "        print(username, response.status_code)\n",
    "        while not response.status_code == 200:\n",
    "            response = requests.get(url)\n",
    "            tries += 1\n",
    "            sleep(MIN_TIME, MAX_TIME)\n",
    "            print(username, tries)\n",
    "            if tries > 2:\n",
    "                with open(\"../data/usersskipped.csv\", \"a+\") as f:\n",
    "                    f.write(f\"{username}\\n\")\n",
    "                break\n",
    "                \n",
    "        data = ET.fromstring(response.text)\n",
    "        \n",
    "        timenow = datetime.datetime.now().strftime(\"%Y-%m-%d %H:%M:%S\")\n",
    "        \n",
    "        if \"errors\" in data.keys():\n",
    "            message = data.find(\"message\")\n",
    "            print(message)\n",
    "        else:\n",
    "            if data.get(\"totalitems\") != \"0\":\n",
    "                items = data.findall(\"item\")\n",
    "        \n",
    "                for item in items:\n",
    "                    userdata, commentdata = information(item)\n",
    "                    with open(\"../data/userinfo.csv\", \"a+\") as f:\n",
    "                        userinfo_out = csv.writer(f)\n",
    "                        userinfo_out.writerow(userdata)\n",
    "                        \n",
    "                    if commentdata:\n",
    "                        with open(\"../data/usercomments.csv\", \"a+\") as f:\n",
    "                            usercomments_out = csv.writer(f)\n",
    "                            usercomments_out.writerow(commentdata)\n",
    "\n",
    "            else:\n",
    "                with open(\"../data/usernogames.csv\", \"a+\") as f:\n",
    "                        record = f\"{username}\\n\"\n",
    "                        f.write(record)\n",
    "            \n",
    "                \n",
    "        sleep(MIN_TIME, MAX_TIME)"
   ]
  },
  {
   "cell_type": "code",
   "execution_count": null,
   "metadata": {},
   "outputs": [],
   "source": []
  },
  {
   "cell_type": "code",
   "execution_count": 166,
   "metadata": {},
   "outputs": [
    {
     "data": {
      "text/plain": [
       "'2173'"
      ]
     },
     "execution_count": 166,
     "metadata": {},
     "output_type": "execute_result"
    }
   ],
   "source": [
    "item.get(\"objectid\")"
   ]
  },
  {
   "cell_type": "code",
   "execution_count": null,
   "metadata": {},
   "outputs": [],
   "source": []
  },
  {
   "cell_type": "code",
   "execution_count": null,
   "metadata": {},
   "outputs": [],
   "source": []
  },
  {
   "cell_type": "code",
   "execution_count": 129,
   "metadata": {},
   "outputs": [],
   "source": [
    "completed_usernames = [ 'ktusing',\n",
    " 'Son_of_Sanguinius',\n",
    " 'wyshmaster6',\n",
    " 'leannetab90',\n",
    " 'homerun2777',\n",
    " 'IndianaGeeking',]"
   ]
  },
  {
   "cell_type": "code",
   "execution_count": 110,
   "metadata": {},
   "outputs": [
    {
     "ename": "AttributeError",
     "evalue": "'set' object has no attribute 'minus'",
     "output_type": "error",
     "traceback": [
      "\u001b[0;31m---------------------------------------------------------------------------\u001b[0m",
      "\u001b[0;31mAttributeError\u001b[0m                            Traceback (most recent call last)",
      "\u001b[0;32m<ipython-input-110-11fe5c696d67>\u001b[0m in \u001b[0;36m<module>\u001b[0;34m\u001b[0m\n\u001b[0;32m----> 1\u001b[0;31m \u001b[0mset\u001b[0m\u001b[0;34m(\u001b[0m\u001b[0musernames\u001b[0m\u001b[0;34m)\u001b[0m\u001b[0;34m.\u001b[0m\u001b[0mminus\u001b[0m\u001b[0;34m(\u001b[0m\u001b[0mcompleted_usernames\u001b[0m\u001b[0;34m)\u001b[0m\u001b[0;34m\u001b[0m\u001b[0;34m\u001b[0m\u001b[0m\n\u001b[0m",
      "\u001b[0;31mAttributeError\u001b[0m: 'set' object has no attribute 'minus'"
     ]
    }
   ],
   "source": [
    "set(usernames).minus(completed_usernames)"
   ]
  },
  {
   "cell_type": "code",
   "execution_count": 111,
   "metadata": {},
   "outputs": [],
   "source": [
    "usernameset = set(usernames)"
   ]
  },
  {
   "cell_type": "code",
   "execution_count": 113,
   "metadata": {},
   "outputs": [
    {
     "data": {
      "text/plain": [
       "36922"
      ]
     },
     "execution_count": 113,
     "metadata": {},
     "output_type": "execute_result"
    }
   ],
   "source": [
    "len(usernameset.difference(set(completed_usernames)))"
   ]
  },
  {
   "cell_type": "code",
   "execution_count": 151,
   "metadata": {},
   "outputs": [],
   "source": [
    "url = build_url(\"aArendsvark\")"
   ]
  },
  {
   "cell_type": "code",
   "execution_count": 154,
   "metadata": {},
   "outputs": [
    {
     "data": {
      "text/plain": [
       "<Element 'items' at 0x119357590>"
      ]
     },
     "execution_count": 154,
     "metadata": {},
     "output_type": "execute_result"
    }
   ],
   "source": [
    "data"
   ]
  },
  {
   "cell_type": "code",
   "execution_count": 155,
   "metadata": {},
   "outputs": [],
   "source": [
    "data = ET.fromstring(requests.get(url).text)"
   ]
  },
  {
   "cell_type": "code",
   "execution_count": 159,
   "metadata": {},
   "outputs": [
    {
     "data": {
      "text/plain": [
       "[<Element 'item' at 0x1193e1590>,\n",
       " <Element 'item' at 0x11ad9e110>,\n",
       " <Element 'item' at 0x11ad9e770>,\n",
       " <Element 'item' at 0x11ad9edd0>,\n",
       " <Element 'item' at 0x11ad9c4d0>,\n",
       " <Element 'item' at 0x11ad9cb90>,\n",
       " <Element 'item' at 0x119dac230>,\n",
       " <Element 'item' at 0x119dac890>,\n",
       " <Element 'item' at 0x119dacf50>,\n",
       " <Element 'item' at 0x119d915f0>,\n",
       " <Element 'item' at 0x119d91bf0>,\n",
       " <Element 'item' at 0x11980e290>,\n",
       " <Element 'item' at 0x11980e8f0>,\n",
       " <Element 'item' at 0x11980ef50>,\n",
       " <Element 'item' at 0x119d1ad70>,\n",
       " <Element 'item' at 0x119812770>,\n",
       " <Element 'item' at 0x119812e90>,\n",
       " <Element 'item' at 0x105ed6530>]"
      ]
     },
     "execution_count": 159,
     "metadata": {},
     "output_type": "execute_result"
    }
   ],
   "source": []
  },
  {
   "cell_type": "code",
   "execution_count": 161,
   "metadata": {},
   "outputs": [
    {
     "name": "stdout",
     "output_type": "stream",
     "text": [
      "94246\n",
      "31260\n",
      "1293\n",
      "13\n",
      "478\n",
      "112\n",
      "131357\n",
      "2398\n",
      "133437\n",
      "153723\n",
      "149361\n",
      "168584\n",
      "84465\n",
      "134520\n",
      "102652\n",
      "103885\n",
      "123955\n",
      "9209\n"
     ]
    }
   ],
   "source": [
    "for item in data.findall(\"item\"):\n",
    "    print(item.get(\"objectid\"))"
   ]
  },
  {
   "cell_type": "code",
   "execution_count": null,
   "metadata": {},
   "outputs": [],
   "source": []
  }
 ],
 "metadata": {
  "kernelspec": {
   "display_name": "Python [conda env:dvaproject] *",
   "language": "python",
   "name": "conda-env-dvaproject-py"
  },
  "language_info": {
   "codemirror_mode": {
    "name": "ipython",
    "version": 3
   },
   "file_extension": ".py",
   "mimetype": "text/x-python",
   "name": "python",
   "nbconvert_exporter": "python",
   "pygments_lexer": "ipython3",
   "version": "3.7.6"
  }
 },
 "nbformat": 4,
 "nbformat_minor": 4
}

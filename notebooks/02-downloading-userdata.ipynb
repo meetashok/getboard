{
 "cells": [
  {
   "cell_type": "code",
   "execution_count": 128,
   "metadata": {},
   "outputs": [],
   "source": [
    "import requests\n",
    "from bs4 import BeautifulSoup\n",
    "import re"
   ]
  },
  {
   "cell_type": "code",
   "execution_count": 129,
   "metadata": {},
   "outputs": [],
   "source": [
    "base_url = \"https://www.boardgamegeek.com\""
   ]
  },
  {
   "cell_type": "code",
   "execution_count": 130,
   "metadata": {},
   "outputs": [],
   "source": [
    "collections_url = \"/xmlapi2/collection?username=\"\n",
    "thing_url = \"/xmlapi2/thing?id=\""
   ]
  },
  {
   "cell_type": "code",
   "execution_count": 131,
   "metadata": {},
   "outputs": [],
   "source": [
    "username = \"Varduk\""
   ]
  },
  {
   "cell_type": "code",
   "execution_count": 132,
   "metadata": {},
   "outputs": [],
   "source": [
    "url = f\"{base_url}{thing_url}7865\""
   ]
  },
  {
   "cell_type": "code",
   "execution_count": 146,
   "metadata": {},
   "outputs": [
    {
     "name": "stdout",
     "output_type": "stream",
     "text": [
      "https://www.boardgamegeek.com/xmlapi2/collection?username=Varduk&excludesubtype=boardgameexpansion&minrating=1&stats=1\n"
     ]
    }
   ],
   "source": [
    "url1 = f\"{base_url}{collections_url}{username}&excludesubtype=boardgameexpansion&minrating=1&stats=1\"\n",
    "url2 = f\"{base_url}{collections_url}{username}\"\n",
    "print(url1)"
   ]
  },
  {
   "cell_type": "code",
   "execution_count": 134,
   "metadata": {},
   "outputs": [],
   "source": [
    "response = requests.get(url1)"
   ]
  },
  {
   "cell_type": "code",
   "execution_count": 135,
   "metadata": {},
   "outputs": [
    {
     "name": "stdout",
     "output_type": "stream",
     "text": [
      "200\n"
     ]
    }
   ],
   "source": [
    "print(response.status_code)"
   ]
  },
  {
   "cell_type": "code",
   "execution_count": 136,
   "metadata": {},
   "outputs": [],
   "source": [
    "import xml.etree.ElementTree as ET "
   ]
  },
  {
   "cell_type": "code",
   "execution_count": 141,
   "metadata": {},
   "outputs": [],
   "source": [
    "with open('topnewsfeed.xml', 'wb') as f: \n",
    "    f.write(response.content) "
   ]
  },
  {
   "cell_type": "code",
   "execution_count": 142,
   "metadata": {},
   "outputs": [],
   "source": [
    "content = ET.parse(\"topnewsfeed.xml\")"
   ]
  },
  {
   "cell_type": "code",
   "execution_count": 147,
   "metadata": {},
   "outputs": [],
   "source": [
    "items = content.findall(\"item\")"
   ]
  },
  {
   "cell_type": "code",
   "execution_count": 161,
   "metadata": {},
   "outputs": [],
   "source": [
    "item = items[0]"
   ]
  },
  {
   "cell_type": "code",
   "execution_count": 166,
   "metadata": {},
   "outputs": [
    {
     "name": "stdout",
     "output_type": "stream",
     "text": [
      "7865 10 Days in Africa\n"
     ]
    }
   ],
   "source": [
    "gameid = item.get(\"objectid\")\n",
    "gamename = item.find(\"name\").text\n",
    "\n",
    "print(gameid, gamename)"
   ]
  },
  {
   "cell_type": "code",
   "execution_count": 168,
   "metadata": {},
   "outputs": [],
   "source": [
    "userrating = item.find(\"stats\").find(\"rating\").get(\"value\")"
   ]
  },
  {
   "cell_type": "markdown",
   "metadata": {},
   "source": [
    "```xml\n",
    "<item objecttype=\"thing\" objectid=\"7865\" subtype=\"boardgame\" collid=\"11127831\">\n",
    "<name sortindex=\"1\">10 Days in Africa</name>\n",
    "<yearpublished>2003</yearpublished>\n",
    "<image>\n",
    "https://cf.geekdo-images.com/original/img/k0YHQxddSd7-fTmuamxpZiwI1Xs=/0x0/pic1229634.jpg\n",
    "</image>\n",
    "<thumbnail>\n",
    "https://cf.geekdo-images.com/thumb/img/Kk309UtSrQu3flO3Rs_Vxuumvd4=/fit-in/200x150/pic1229634.jpg\n",
    "</thumbnail>\n",
    "<stats minplayers=\"2\" maxplayers=\"4\" minplaytime=\"20\" maxplaytime=\"30\" playingtime=\"30\" numowned=\"2141\">\n",
    "<rating value=\"7\">\n",
    "<usersrated value=\"1878\"/>\n",
    "<average value=\"6.55928\"/>\n",
    "<bayesaverage value=\"6.08954\"/>\n",
    "<stddev value=\"1.18295\"/>\n",
    "<median value=\"0\"/>\n",
    "<ranks>\n",
    "<rank type=\"subtype\" id=\"1\" name=\"boardgame\" friendlyname=\"Board Game Rank\" value=\"1956\" bayesaverage=\"6.08954\"/>\n",
    "<rank type=\"family\" id=\"5499\" name=\"familygames\" friendlyname=\"Family Game Rank\" value=\"559\" bayesaverage=\"6.19046\"/>\n",
    "</ranks>\n",
    "</rating>\n",
    "</stats>\n",
    "<status own=\"1\" prevowned=\"0\" fortrade=\"1\" want=\"0\" wanttoplay=\"0\" wanttobuy=\"0\" wishlist=\"0\" preordered=\"0\" lastmodified=\"2015-09-16 05:26:37\"/>\n",
    "<numplays>5</numplays>\n",
    "</item>\n",
    "```"
   ]
  },
  {
   "cell_type": "code",
   "execution_count": 175,
   "metadata": {},
   "outputs": [],
   "source": [
    "status = item.find(\"status\")\n",
    "own = status.get(\"own\")\n",
    "preowned = status.get(\"prevowned\")\n",
    "fortrade = status.get(\"fortrade\")\n",
    "want = status.get(\"want\")\n",
    "wanttoplay = status.get(\"wanttoplay\")\n",
    "wanttobuy = status.get(\"wanttobuy\")\n",
    "wishlist = status.get(\"wishlist\")\n",
    "lastmodified = status.get(\"lastmodified\")\n",
    "\n",
    "numplays = item.find(\"numplays\").text"
   ]
  },
  {
   "cell_type": "code",
   "execution_count": 176,
   "metadata": {},
   "outputs": [
    {
     "name": "stdout",
     "output_type": "stream",
     "text": [
      "1 0 1 0 0 0 0 2015-09-16 05:26:37 5\n"
     ]
    }
   ],
   "source": [
    "print(own, preowned, fortrade, want, wanttoplay, wanttobuy, wishlist, lastmodified, numplays)"
   ]
  },
  {
   "cell_type": "code",
   "execution_count": 113,
   "metadata": {},
   "outputs": [
    {
     "name": "stdout",
     "output_type": "stream",
     "text": [
      "283\n"
     ]
    }
   ],
   "source": [
    "items = soup.find_all(\"item\")\n",
    "print(len(items))"
   ]
  },
  {
   "cell_type": "code",
   "execution_count": 114,
   "metadata": {},
   "outputs": [
    {
     "name": "stdout",
     "output_type": "stream",
     "text": [
      "boardgame 10 Days in Africa\n",
      "boardgame 1066, Tears To Many Mothers\n",
      "boardgame 1940: What If Germany Went East?\n",
      "boardgame 1st & Goal\n",
      "boardgame 7 Wonders Duel\n",
      "boardgame Advanced Squad Leader: Starter Kit #3\n",
      "boardgame Aether Captains: Clockwork Cabal\n",
      "boardgame Aether Captains: Pirates and Traders\n",
      "boardgame Age of Civilization\n",
      "boardgame Age of War\n",
      "boardgame Ancient Civilizations of the Inner Sea\n",
      "boardgame Aquaretto\n",
      "boardgame Archaeology: The Card Game\n",
      "boardgame Argent: The Consortium\n",
      "boardgame Arkham Horror: The Card Game\n",
      "boardgame Armageddon War\n",
      "boardgame The Awful Green Things From Outer Space\n",
      "boardgame Axis & Allies: Europe\n",
      "boardgame B-29 Superfortress\n",
      "boardgame Band of Brothers: Ghost Panzer\n",
      "boardgame Barbarian Prince\n",
      "boardgame Barker's Row\n",
      "boardgame Battle Masters\n",
      "boardgame BattleLore\n",
      "boardgame Battles of Napoleon: The Eagle and the Lion\n",
      "boardgame Battles of Westeros\n",
      "boardgame Berlin '85: The Enemy at the Gates\n",
      "boardgame Bibliogamo\n",
      "boardgame Biblios\n",
      "boardgame Black Angel\n",
      "boardgame Blood Bowl: Team Manager – The Card Game\n",
      "boardgame Bloody Monday\n",
      "boardgame Bloody Ridge: Decision on Guadalcanal, 13 September 1942\n",
      "boardgame Breaking the Chains: War in the South China Sea\n",
      "boardgame British Vs Pirates: Volume 1\n",
      "boardgame Call to Adventure\n",
      "boardgame Carcassonne: Amazonas\n",
      "boardgame The Cards of Cthulhu\n",
      "boardgame Carpe Diem\n",
      "boardgame Carthago: Merchants & Guilds\n",
      "boardgame Castle Panic\n",
      "boardgame Catacombs & Castles\n",
      "boardgame Century: Eastern Wonders\n",
      "boardgame Century: Spice Road\n",
      "boardgame Ceylon\n",
      "boardgame Champions of Midgard\n",
      "boardgame Chartered: The Golden Age\n",
      "boardgame The China War\n",
      "boardgame Chocolate Factory\n",
      "boardgame Chomp!\n",
      "boardgame Circle of Fire: The Siege of Cholm, 1942\n",
      "boardgame Cockroach Poker\n",
      "boardgame Coimbra\n",
      "boardgame Commands & Colors: Ancients\n",
      "boardgame Condottiere\n",
      "boardgame Conquest Tactics\n",
      "boardgame Copenhagen\n",
      "boardgame Crossfire\n",
      "boardgame Cyclades\n",
      "boardgame Cytosis: A Cell Biology Board Game\n",
      "boardgame D-Day Dice: Free Trial Version\n",
      "boardgame The Da Vinci Code Board Game: The Quest for the Truth\n",
      "boardgame Dawn of the Zeds (First edition)\n",
      "boardgame Deep Madness\n",
      "boardgame Defenders of the Realm\n",
      "boardgame Delve the Card Game\n",
      "boardgame Derelicts of Sin: Heresy\n",
      "boardgame Devil's Run: Hell's Highway\n",
      "boardgame Dinosaur Tea Party\n",
      "boardgame Dinosaurs of the Lost World\n",
      "boardgame Doctor Who: Solitaire Story Game\n",
      "boardgame Doctor Who: Solitaire Story Game (Second edition)\n",
      "boardgame Doctor Who: The Interactive Electronic Board Game\n",
      "boardgame Doctor Who: Time of the Daleks\n",
      "boardgame Dominoes\n",
      "boardgame Donetsk: Battle for the Airfield\n",
      "boardgame The Downfall of Pompeii\n",
      "boardgame Dragon's Breath\n",
      "boardgame Dreadfleet\n",
      "boardgame Drive on Pyongyang\n",
      "boardgame Drop It\n",
      "boardgame Dungeon Mayhem\n",
      "boardgame Dungeon Roll\n",
      "boardgame Dungeons & Dragons: Castle Ravenloft Board Game\n",
      "boardgame Dungeons & Dragons: The Legend of Drizzt Board Game\n",
      "boardgame Dungeons & Dragons: Wrath of Ashardalon Board Game\n",
      "boardgame Dystopian Wars\n",
      "boardgame The Egyptian Campaign\n",
      "boardgame Empires of the Void II\n",
      "boardgame Empires: Age of Discovery\n",
      "boardgame Endeavor: Age of Sail\n",
      "boardgame Enduring Freedom\n",
      "boardgame Enemies of Rome\n",
      "boardgame Enki-Des:  The Soul Gates\n",
      "boardgame Escape from Colditz\n",
      "boardgame Escape: The Curse of the Temple\n",
      "boardgame Ethnos\n",
      "boardgame Europa Base Alpha\n",
      "boardgame Fairy Tale\n",
      "boardgame Fairy Tale in my Pocket\n",
      "boardgame Falklands Showdown: The 1982 Anglo-Argentine War\n",
      "boardgame Fantasy Realms\n",
      "boardgame Field Commander: Alexander\n",
      "boardgame The Flow of History\n",
      "boardgame Forbidden Island\n",
      "boardgame Fortune and Glory: The Cliffhanger Game\n",
      "boardgame Founders of Gloomhaven\n",
      "boardgame Francis Drake\n",
      "boardgame Free Trader\n",
      "boardgame Frostgrave\n",
      "boardgame Gears of War: The Board Game\n",
      "boardgame Ghost Division: The 7th Panzer Division's Drive to the Sea\n",
      "boardgame GKR: Heavy Hitters\n",
      "boardgame Glen More II: Chronicles\n",
      "boardgame Gloobz\n",
      "boardgame Goeben, 1914\n",
      "boardgame GolfMania\n",
      "boardgame Gondor\n",
      "boardgame Gorus Maximus\n",
      "boardgame Gretchinz!\n",
      "boardgame GUBS: A Game of Wit and Luck\n",
      "boardgame Hannibal & Hamilcar\n",
      "boardgame Happy Families\n",
      "boardgame Happy Salmon\n",
      "boardgame The Hardest Days\n",
      "boardgame Harry Potter: Hogwarts Battle\n",
      "boardgame Heaven & Ale\n",
      "boardgame Hello, Dolly!\n",
      "boardgame Heroes of Land, Air & Sea\n",
      "boardgame Heroscape Master Set: Rise of the Valkyrie\n",
      "boardgame High Society\n",
      "boardgame Hohenfriedeberg\n",
      "boardgame Horizons\n",
      "boardgame Imperial Settlers: Roll & Write\n",
      "boardgame Inspector Moss: House Arrest\n",
      "boardgame Istanbul: The Dice Game\n",
      "boardgame It's A Chicken\n",
      "boardgame It's a Wonderful World\n",
      "boardgame Jasper and Zot\n",
      "boardgame Kemet\n",
      "boardgame KeyForge: Worlds Collide\n",
      "boardgame The King's Guild\n",
      "boardgame King's Road\n",
      "boardgame Kitchen Rush\n",
      "boardgame Land of Enin\n",
      "boardgame Legacy of Dragonholt\n",
      "boardgame Lilliburlero: The Battle of the Boyne, July 1690\n",
      "boardgame Limes\n",
      "boardgame Lock 'n Load Tactical: Day of Heroes\n",
      "boardgame Lock 'n Load: Band of Heroes\n",
      "boardgame Lock 'n Load: Heroes of the Gap\n",
      "boardgame Long Live the King\n",
      "boardgame Lord of the Rings: The Adventure Deck Game\n",
      "boardgame The Lord of the Rings: The Card Game\n",
      "boardgame Machi Koro\n",
      "boardgame Magic Maze\n",
      "boardgame Martian Dice\n",
      "boardgame Medici\n",
      "boardgame Medieval\n",
      "boardgame Memoir '44\n",
      "boardgame The Mind\n",
      "boardgame Mini DiverCity\n",
      "boardgame Monikers\n",
      "boardgame Monster Slaughter\n",
      "boardgame Mosby's Raiders\n",
      "boardgame Moscow Attacked\n",
      "boardgame Munchkin\n",
      "boardgame Mythic Battles: Pantheon\n",
      "boardgame Nanty Narking\n",
      "boardgame Napoleon's First Battles\n",
      "boardgame NCIS: The Board Game\n",
      "boardgame Neuschwabenland\n",
      "boardgame Ney vs. Wellington\n",
      "boardgame Ninjitsu!\n",
      "boardgame No Retreat!\n",
      "boardgame Oil War: Iran Strikes\n",
      "boardgame Once Upon a Time: The Storytelling Card Game\n",
      "boardgame Orléans\n",
      "boardgame Outlive\n",
      "boardgame Paladins of the West Kingdom\n",
      "boardgame Pandemic Legacy: Season 1\n",
      "boardgame Paratroop\n",
      "boardgame Pathfinder Adventure Card Game: Skull & Shackles – Base Set\n",
      "boardgame Periorbis\n",
      "boardgame Pick-a-Dog\n",
      "boardgame Pigment\n",
      "boardgame Pioneer Days\n",
      "boardgame Pokémon Trading Card Game\n",
      "boardgame Poland Strikes!\n",
      "boardgame Pulsar 2849\n",
      "boardgame The Quacks of Quedlinburg\n",
      "boardgame Quartermaster General\n",
      "boardgame Railroad Ink: Deep Blue Edition\n",
      "boardgame Rallytaire\n",
      "boardgame Rampage\n",
      "boardgame Reavers of Midgard\n",
      "boardgame Reconquista\n",
      "boardgame Res Arcana\n",
      "boardgame Rescue Polar Bears: Data & Temperature\n",
      "boardgame Revenge of the Dictators\n",
      "boardgame Rhino Hero: Super Battle\n",
      "boardgame Rise to Nobility\n",
      "boardgame Rising Sun\n",
      "boardgame Robin Hood and the Merry Men\n",
      "boardgame Robinson Crusoe: Adventures on the Cursed Island\n",
      "boardgame RoboRally\n",
      "boardgame Root\n",
      "boardgame Sakura\n",
      "boardgame Santo Domingo\n",
      "boardgame Scooby Doo: Escape from the Vortex\n",
      "boardgame Secret Hitler\n",
      "boardgame Sentinels of the Multiverse\n",
      "boardgame Shadows of Brimstone: Forbidden Fortress\n",
      "boardgame Shadows Upon Lassadar: Revenge of the Raven Consort\n",
      "boardgame Shards of Infinity\n",
      "boardgame Sheriff of Nottingham\n",
      "boardgame Shogun Triumphant\n",
      "boardgame Sky Traders\n",
      "boardgame Small Star Empires\n",
      "boardgame Small World\n",
      "boardgame Snow Tails\n",
      "boardgame Space Alert\n",
      "boardgame Space Infantry\n",
      "boardgame SpaceCorp\n",
      "boardgame Stalingrad Inferno on the Volga\n",
      "boardgame Star Realms\n",
      "boardgame Star Trek: Expeditions\n",
      "boardgame Star Trek: Fleet Captains\n",
      "boardgame Star Wars: Outer Rim\n",
      "boardgame Star Wars: Rebellion\n",
      "boardgame Strike\n",
      "boardgame Stuffed Fables\n",
      "boardgame Summit: The Board Game\n",
      "boardgame Sushi Roll\n",
      "boardgame Takenoko\n",
      "boardgame Tales & Games: The Three Little Pigs\n",
      "boardgame TANKS: The Modern Age\n",
      "boardgame Thing-a-ma-Bots\n",
      "boardgame This War of Mine: The Board Game\n",
      "boardgame Thunderbolt Apache Leader\n",
      "boardgame Thunderstone Advance: Towers of Ruin\n",
      "boardgame Thunderstone Quest\n",
      "boardgame Ticket to Ride: New York\n",
      "boardgame Tiny Epic Zombies\n",
      "boardgame Trollfjord\n",
      "boardgame Tumblin' Monkeys\n",
      "boardgame Turkey Day\n",
      "boardgame The Twelve Doctors: Doctor Who Card Game\n",
      "boardgame Unfathomable Encounters\n",
      "boardgame Unstable Unicorns\n",
      "boardgame Valeria: Card Kingdoms\n",
      "boardgame Valor & Victory\n",
      "boardgame Vanuatu (second edition)\n",
      "boardgame Vikingar: The Conquest of Worlds\n",
      "boardgame Vikings: Scourge of the North\n",
      "boardgame Village Attacks\n",
      "boardgame Villages of Valeria\n",
      "boardgame VOLT: Robot Battle Arena\n",
      "boardgame The Voyages of Marco Polo\n",
      "boardgame Wacky Races: The Board Game\n",
      "boardgame War by Television: Kosovo 1999\n",
      "boardgame Warhammer Age of Sigmar\n",
      "boardgame Warhammer Quest: Blackstone Fortress\n",
      "boardgame Warhammer Underworlds: Nightvault\n",
      "boardgame Warhammer Underworlds: Shadespire\n",
      "boardgame Warhammer: The Mass Combat Fantasy Roleplaying Game (1st Edition)\n",
      "boardgame Warmachine\n",
      "boardgame We Must Tell the Emperor: The Great Pacific War, 1941 to 1945\n",
      "boardgame Welcome To...\n",
      "boardgame When Eagles Fight\n",
      "boardgame Where There Is Discord: War in the South Atlantic\n",
      "boardgame Whistle Stop\n",
      "boardgame Widower's Wood: An Iron Kingdoms Adventure Board Game\n",
      "boardgame Wild West Exodus\n",
      "boardgame Wingspan\n",
      "boardgame Wiz-War (eighth edition)\n",
      "boardgame Woodland Race\n",
      "boardgame World at War: Blood and Bridges\n",
      "boardgame Zed Deck\n",
      "boardgame Zombicide\n",
      "boardgame Zombicide: Green Horde\n",
      "boardgame Zombie Dice\n",
      "boardgame Zoo Ball\n"
     ]
    }
   ],
   "source": [
    "for item in items:\n",
    "    print(item.get(\"subtype\"), item.select(\"name\")[0].text)"
   ]
  },
  {
   "cell_type": "code",
   "execution_count": 125,
   "metadata": {},
   "outputs": [
    {
     "data": {
      "text/plain": [
       "<item collid=\"11127831\" objectid=\"7865\" objecttype=\"thing\" subtype=\"boardgame\">\n",
       "<name sortindex=\"1\">10 Days in Africa</name>\n",
       "<yearpublished>2003</yearpublished> <image>https://cf.geekdo-images.com/original/img/k0YHQxddSd7-fTmuamxpZiwI1Xs=/0x0/pic1229634.jpg</image>\n",
       "<thumbnail>https://cf.geekdo-images.com/thumb/img/Kk309UtSrQu3flO3Rs_Vxuumvd4=/fit-in/200x150/pic1229634.jpg</thumbnail>\n",
       "<stats maxplayers=\"4\" maxplaytime=\"30\" minplayers=\"2\" minplaytime=\"20\" numowned=\"2141\" playingtime=\"30\">\n",
       "<rating value=\"7\"> <usersrated value=\"1878\"/> <average value=\"6.55928\"/>\n",
       "<bayesaverage value=\"6.08954\"/> <stddev value=\"1.18295\"/>\n",
       "<median value=\"0\"/> <ranks>\n",
       "<rank bayesaverage=\"6.08954\" friendlyname=\"Board Game Rank\" id=\"1\" name=\"boardgame\" type=\"subtype\" value=\"1956\"/>\n",
       "<rank bayesaverage=\"6.19046\" friendlyname=\"Family Game Rank\" id=\"5499\" name=\"familygames\" type=\"family\" value=\"559\"/>\n",
       "</ranks> </rating>\n",
       "</stats> <status fortrade=\"1\" lastmodified=\"2015-09-16 05:26:37\" own=\"1\" preordered=\"0\" prevowned=\"0\" want=\"0\" wanttobuy=\"0\" wanttoplay=\"0\" wishlist=\"0\"/>\n",
       "<numplays>5</numplays> </item>"
      ]
     },
     "execution_count": 125,
     "metadata": {},
     "output_type": "execute_result"
    }
   ],
   "source": [
    "items[0]"
   ]
  },
  {
   "cell_type": "code",
   "execution_count": null,
   "metadata": {},
   "outputs": [],
   "source": []
  }
 ],
 "metadata": {
  "kernelspec": {
   "display_name": "Python [conda env:dvaproject] *",
   "language": "python",
   "name": "conda-env-dvaproject-py"
  },
  "language_info": {
   "codemirror_mode": {
    "name": "ipython",
    "version": 3
   },
   "file_extension": ".py",
   "mimetype": "text/x-python",
   "name": "python",
   "nbconvert_exporter": "python",
   "pygments_lexer": "ipython3",
   "version": "3.7.6"
  }
 },
 "nbformat": 4,
 "nbformat_minor": 4
}

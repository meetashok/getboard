{
 "cells": [
  {
   "cell_type": "code",
   "execution_count": 179,
   "metadata": {},
   "outputs": [],
   "source": [
    "import requests\n",
    "from bs4 import BeautifulSoup\n",
    "import pandas as pd\n",
    "import time\n",
    "import datetime\n",
    "import random"
   ]
  },
  {
   "cell_type": "code",
   "execution_count": 217,
   "metadata": {},
   "outputs": [],
   "source": [
    "def build_zipcode(number):\n",
    "    '''The zip column in the uszips file is read as a number\n",
    "    This function converts the number to a string and prefixes\n",
    "    additional zeroes to make the length == 5\n",
    "    '''\n",
    "    num_string = str(number)\n",
    "    if len(num_string) == 5:\n",
    "        return num_string\n",
    "    else:\n",
    "        return (5 - len(num_string))*\"0\" + num_string\n",
    "    \n",
    "def get_zipcodes(filename):\n",
    "    '''Reads the zipcode file and returns an array of zipcode\n",
    "    '''\n",
    "    data = pd.read_csv(filename)\n",
    "    data[\"zip\"] = data.zip.apply(build_zipcode)\n",
    "    \n",
    "    zipcodes = data.zip.values\n",
    "    \n",
    "    print(f\"Number of zipcodes in US: {len(zipcodes):,.0f}\")\n",
    "    \n",
    "    return zipcodes\n",
    "\n",
    "def sleep(MIN_TIME, MAX_TIME):\n",
    "    time.sleep(random.randint(MIN_TIME*10, MAX_TIME*10)/10)\n",
    "    \n",
    "def build_url(zipcode, maxdist):\n",
    "    base_url = \"https://boardgamegeek.com/findgamers.php?action=findclosest&country=US&\"\n",
    "    url = f\"{base_url}srczip={zipcode}&maxdist={maxdist}&B1=Submit\"\n",
    "    return url\n",
    "\n",
    "def get_userinfo(div):\n",
    "    username = div.get(\"data-username\")\n",
    "    urlusername = div.get(\"data-urlusername\")\n",
    "    userid = div.get(\"data-userid\")\n",
    "    name = div.div.text\n",
    "    \n",
    "    return urlusername, username, userid, name"
   ]
  },
  {
   "cell_type": "code",
   "execution_count": 218,
   "metadata": {},
   "outputs": [
    {
     "name": "stdout",
     "output_type": "stream",
     "text": [
      "Number of zipcodes in US: 33,099\n"
     ]
    }
   ],
   "source": [
    "filename = \"../data/uszips.csv\"\n",
    "\n",
    "MIN_TIME = 1\n",
    "MAX_TIME = 3\n",
    "\n",
    "MAXDIST = 25\n",
    "\n",
    "zipcodes = get_zipcodes(filename)"
   ]
  },
  {
   "cell_type": "code",
   "execution_count": 221,
   "metadata": {},
   "outputs": [
    {
     "name": "stdout",
     "output_type": "stream",
     "text": [
      "2020-02-29 17:39:44, Requests: 1, Users: 0\n",
      "2020-02-29 17:39:47, Requests: 2, Users: 0\n",
      "2020-02-29 17:39:49, Requests: 3, Users: 0\n"
     ]
    }
   ],
   "source": [
    "n_requests = 0\n",
    "n_users = 0\n",
    "\n",
    "for i, zipcode in enumerate(zipcodes[30:33]):\n",
    "    url = build_url(zipcode, MAXDIST)\n",
    "    response = requests.get(url)\n",
    "    \n",
    "    timenow = datetime.datetime.now().strftime(\"%Y-%m-%d %H:%M:%S\")\n",
    "    \n",
    "    if response.ok:\n",
    "        html_soup = BeautifulSoup(response.text, 'html.parser')\n",
    "        user_divs = html_soup.find_all(\"div\", class_=\"avatarblock\")\n",
    "        with open(\"../data/usernames_download.csv\", \"a+\") as f:\n",
    "            record = f\"{timenow},{zipcode},{MAXDIST},{len(user_divs)}\\n\"\n",
    "            f.write(record)\n",
    "        if len(user_divs) > 0:\n",
    "            for div in user_divs:\n",
    "                urlusername, username, userid, name = get_userinfo(div)\n",
    "                with open(\"../data/usernames.csv\", \"a+\") as f:\n",
    "                    record = f\"{zipcode},{MAXDIST},{urlusername},{username},{userid},{name}\\n\"\n",
    "                    f.write(record)\n",
    "    \n",
    "    n_requests += 1\n",
    "    n_users += len(user_divs)\n",
    "    \n",
    "    print(f\"{timenow}, Requests: {n_requests}, Users: {n_users}\")\n",
    "    \n",
    "    sleep(MIN_TIME, MAX_TIME)\n",
    "    "
   ]
  },
  {
   "cell_type": "code",
   "execution_count": null,
   "metadata": {},
   "outputs": [],
   "source": []
  }
 ],
 "metadata": {
  "kernelspec": {
   "display_name": "Python [conda env:dvaproject] *",
   "language": "python",
   "name": "conda-env-dvaproject-py"
  },
  "language_info": {
   "codemirror_mode": {
    "name": "ipython",
    "version": 3
   },
   "file_extension": ".py",
   "mimetype": "text/x-python",
   "name": "python",
   "nbconvert_exporter": "python",
   "pygments_lexer": "ipython3",
   "version": "3.7.6"
  }
 },
 "nbformat": 4,
 "nbformat_minor": 4
}

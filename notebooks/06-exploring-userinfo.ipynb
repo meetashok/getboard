{
 "cells": [
  {
   "cell_type": "code",
   "execution_count": 2,
   "metadata": {},
   "outputs": [],
   "source": [
    "import pandas as pd\n",
    "import numpy as np\n",
    "import seaborn as sns\n",
    "import matplotlib.pyplot as plt\n",
    "%matplotlib inline"
   ]
  },
  {
   "cell_type": "code",
   "execution_count": 52,
   "metadata": {},
   "outputs": [],
   "source": [
    "nrows = None\n",
    "\n",
    "names = [\"username\", \"gameid\", \"userrating\", \"own\", \"prevowned\", \"fortrade\", \"want\", \n",
    "         \"wanttoplay\", \"wanttobuy\", \"wishlist\", \"wishlistpriority\", \"preordered\", \n",
    "         \"numplays\", \"lastmodified\"]\n",
    "\n",
    "data = pd.read_csv(\"../data/userinfo.csv\", nrows=nrows, names=names)"
   ]
  },
  {
   "cell_type": "code",
   "execution_count": 53,
   "metadata": {},
   "outputs": [
    {
     "name": "stdout",
     "output_type": "stream",
     "text": [
      "Records:      7,713,598\n",
      "Unique users: 31,541\n",
      "Unique games: 62,643\n"
     ]
    }
   ],
   "source": [
    "print(f\"Records:      {len(data.index):,.0f}\")\n",
    "print(f\"Unique users: {len(data.username.unique()):,.0f}\")\n",
    "print(f\"Unique games: {len(data.gameid.unique()):,.0f}\")"
   ]
  },
  {
   "cell_type": "markdown",
   "metadata": {},
   "source": [
    "# Users"
   ]
  },
  {
   "cell_type": "code",
   "execution_count": 54,
   "metadata": {},
   "outputs": [
    {
     "data": {
      "text/plain": [
       "<matplotlib.axes._subplots.AxesSubplot at 0x1a49c6bb50>"
      ]
     },
     "execution_count": 54,
     "metadata": {},
     "output_type": "execute_result"
    },
    {
     "data": {
      "image/png": "[encoded data removed]",
      "text/plain": [
       "<Figure size 432x288 with 1 Axes>"
      ]
     },
     "metadata": {
      "needs_background": "light"
     },
     "output_type": "display_data"
    }
   ],
   "source": [
    "total_users = len(data.username.unique())\n",
    "\n",
    "data\\\n",
    "    .groupby(\"username\", as_index=False)[\"gameid\"]\\\n",
    "    .count()\\\n",
    "    .rename({\"gameid\": \"gamecount\"}, axis=\"columns\")\\\n",
    "    .sort_values(\"gamecount\", ascending=False)\\\n",
    "    .groupby(\"gamecount\", as_index=False)[\"username\"]\\\n",
    "    .count()\\\n",
    "    .assign(prop_users=lambda row: row[\"username\"] / total_users)\\\n",
    "    .prop_users\\\n",
    "    .cumsum()\\\n",
    "    .plot()"
   ]
  }
 ],
 "metadata": {
  "kernelspec": {
   "display_name": "Python [conda env:dvaproject] *",
   "language": "python",
   "name": "conda-env-dvaproject-py"
  },
  "language_info": {
   "codemirror_mode": {
    "name": "ipython",
    "version": 3
   },
   "file_extension": ".py",
   "mimetype": "text/x-python",
   "name": "python",
   "nbconvert_exporter": "python",
   "pygments_lexer": "ipython3",
   "version": "3.7.6"
  }
 },
 "nbformat": 4,
 "nbformat_minor": 4
}
